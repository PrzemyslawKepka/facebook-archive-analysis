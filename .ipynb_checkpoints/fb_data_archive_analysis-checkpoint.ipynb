{
 "cells": [
  {
   "cell_type": "markdown",
   "metadata": {},
   "source": [
    "# 1.Data processing\n",
    "In this part data is ingested from JSON source files, it's appended to pandas dataframes and database is created as well, allowing further analysis.\n"
   ]
  },
  {
   "cell_type": "code",
   "execution_count": 1,
   "metadata": {},
   "outputs": [
    {
     "name": "stdout",
     "output_type": "stream",
     "text": [
      "Script executed in 126.1828498840332 seconds\n",
      "Total number of ingested JSON files for messages: 245\n"
     ]
    }
   ],
   "source": [
    "##importing necessary libraries\n",
    "import pandas as pd\n",
    "import matplotlib.pyplot as plt\n",
    "from datetime import datetime\n",
    "import time\n",
    "import json\n",
    "import os.path\n",
    "#importing a method from tkinter library for creating GUIs to invoke file prompt, so it's not necessary to provide path to directory\n",
    "import tkinter.filedialog\n",
    "import sqlite3\n",
    "\n",
    "%matplotlib inline\n",
    "\n",
    "start_time = time.time()\n",
    "\n",
    "#archive directory\n",
    "groups_directory = tkinter.filedialog.askdirectory(title = 'Please choose the directory of the unzipped archive')\n",
    "\n",
    "# creating lists to store data from all JSON files. For each iteration, data is added to the lists\n",
    "time_sent,sender,message, conversation, conversation_type = ([] for i in range(5))\n",
    "\n",
    "processed_files_counter = 0\n",
    "#loop to go through all files that contains messages and to append messages to lists\n",
    "if os.path.isdir(groups_directory + \"\\messages\"):\n",
    "    for subdir, dirs, files in os.walk(groups_directory + \"\\messages\"):\n",
    "        for file in files:\n",
    "            if os.path.join(subdir, file).endswith(\"json\"):\n",
    "                with open(os.path.join(subdir, file)) as f:\n",
    "                    data = json.loads(f.read())\n",
    "\n",
    "                for i in data['messages']:\n",
    "                    try:\n",
    "                        sender.append(i['sender_name'].encode('latin1').decode('utf8'))\n",
    "                        time_sent.append(i['timestamp_ms'])\n",
    "                        conversation.append(data['title'].encode('latin1').decode('utf8'))\n",
    "                        conversation_type.append(data['thread_type'])\n",
    "                        message.append(i['content'].encode('latin1').decode('utf8'))\n",
    "                    except KeyError:\n",
    "                        message.append(\"\") \n",
    "                processed_files_counter += 1\n",
    "                            \n",
    "#timestamp to date\n",
    "converted_time_sent = [datetime.fromtimestamp(int(i)/1000.0).strftime('%Y-%m-%d %H:%M:%S') for i in time_sent]\n",
    "\n",
    "#using all the lists to create a dataframe\n",
    "df = pd.DataFrame(list(zip(conversation, conversation_type,sender, converted_time_sent, message)),\n",
    "              columns=['Conversation','Conversation_type','Sender','Time', 'Message'])\n",
    "\n",
    "\n",
    "#adding additional columns, which will be helpful in the analysis\n",
    "df['Sent_received'] = df.apply(lambda x: 'sent' if x['Sender'] == 'Przemysław Kępka' else 'received',axis=1)\n",
    "df['Time'] = pd.to_datetime(df['Time'])\n",
    "df['Year'] = df['Time'].dt.year\n",
    "df['Day'] = df['Time'].dt.strftime('%d-%m-%Y')\n",
    "df['Day'] = pd.to_datetime(df['Day'],dayfirst=True)\n",
    "df['Hour'] = df['Time'].dt.hour\n",
    "\n",
    "\n",
    "#opening file with list of friends\n",
    "with open(str(groups_directory) + \"\\\\friends\" + '\\\\friends.json') as f:\n",
    "    data_f = json.loads(f.read())\n",
    "\n",
    "friends = []\n",
    "date_added = []\n",
    "for i in data_f['friends']:\n",
    "    friends.append(i['name'].encode('latin1').decode('utf8'))\n",
    "    date_added.append(i['timestamp'])\n",
    "\n",
    "date_added = [datetime.fromtimestamp(i).strftime('%Y-%m-%d') for i in date_added]\n",
    "\n",
    "df_friends = pd.DataFrame(list(zip(friends,date_added)),\n",
    "              columns=['Name','Date_added'])\n",
    "\n",
    "#reversing the order to have the index starting from oldest friends\n",
    "df_friends = df_friends.iloc[::-1].reset_index(drop=True)\n",
    "\n",
    "\n",
    "### Creating a database\n",
    "\n",
    "#Database is created if does not exist, tables are also created\n",
    "db_name = 'Facebook_archive_' + datetime.now().strftime(\"%d-%m-%Y_%H-%M-%S\") + '.db'\n",
    "conn = sqlite3.connect(db_name)\n",
    "c = conn.cursor()\n",
    "\n",
    "df.to_sql('Messages', con=conn,if_exists='replace')\n",
    "df_friends.to_sql('Friends', con=conn,if_exists='replace')\n",
    "\n",
    "#closing connection to DB\n",
    "c.close()\n",
    "conn.close()\n",
    "\n",
    "    \n",
    "print(\"Script executed in %s seconds\" % (time.time() - start_time))\n",
    "print(f\"Total number of ingested JSON files for messages: {str(processed_files_counter)}\")\n"
   ]
  },
  {
   "cell_type": "markdown",
   "metadata": {},
   "source": [
    "# 2. Data analysis\n",
    "In this part example data analysis is performed using pandas and SQL queries.\n",
    "\n",
    "Please kindly note that this section is currently very limited due to personal data being concerned, but might be expanded after data anonymization."
   ]
  },
  {
   "cell_type": "markdown",
   "metadata": {},
   "source": [
    "### Pandas examples"
   ]
  },
  {
   "cell_type": "code",
   "execution_count": 2,
   "metadata": {
    "scrolled": true
   },
   "outputs": [
    {
     "data": {
      "text/plain": [
       "<matplotlib.text.Text at 0x20b1d2b4a20>"
      ]
     },
     "execution_count": 2,
     "metadata": {},
     "output_type": "execute_result"
    },
    {
     "data": {
      "image/png": "[encoded data removed]",
      "text/plain": [
       "<matplotlib.figure.Figure at 0x20b104572e8>"
      ]
     },
     "metadata": {},
     "output_type": "display_data"
    }
   ],
   "source": [
    "#Messaging habits, at what time of the day I've been sending messages most often\n",
    "\n",
    "year_min = df['Year'].min()\n",
    "year_max = df['Year'].max()\n",
    "y_label = f'Total number of messages sent {year_min}-{year_max}'\n",
    "df[df['Sent_received'] == 'sent'].groupby('Hour')['Message'].count().plot(kind='bar',title='Messaging habits')\n",
    "plt.ylabel(y_label)"
   ]
  },
  {
   "cell_type": "code",
   "execution_count": 3,
   "metadata": {},
   "outputs": [
    {
     "data": {
      "text/html": [
       "<div>\n",
       "<style>\n",
       "    .dataframe thead tr:only-child th {\n",
       "        text-align: right;\n",
       "    }\n",
       "\n",
       "    .dataframe thead th {\n",
       "        text-align: left;\n",
       "    }\n",
       "\n",
       "    .dataframe tbody tr th {\n",
       "        vertical-align: top;\n",
       "    }\n",
       "</style>\n",
       "<table border=\"1\" class=\"dataframe\">\n",
       "  <thead>\n",
       "    <tr style=\"text-align: right;\">\n",
       "      <th></th>\n",
       "      <th>Year</th>\n",
       "      <th>% of all messages</th>\n",
       "    </tr>\n",
       "  </thead>\n",
       "  <tbody>\n",
       "    <tr>\n",
       "      <th>0</th>\n",
       "      <td>2011</td>\n",
       "      <td>0.30</td>\n",
       "    </tr>\n",
       "    <tr>\n",
       "      <th>1</th>\n",
       "      <td>2012</td>\n",
       "      <td>0.18</td>\n",
       "    </tr>\n",
       "    <tr>\n",
       "      <th>2</th>\n",
       "      <td>2013</td>\n",
       "      <td>0.36</td>\n",
       "    </tr>\n",
       "    <tr>\n",
       "      <th>3</th>\n",
       "      <td>2014</td>\n",
       "      <td>1.64</td>\n",
       "    </tr>\n",
       "    <tr>\n",
       "      <th>4</th>\n",
       "      <td>2015</td>\n",
       "      <td>10.09</td>\n",
       "    </tr>\n",
       "    <tr>\n",
       "      <th>5</th>\n",
       "      <td>2016</td>\n",
       "      <td>20.67</td>\n",
       "    </tr>\n",
       "    <tr>\n",
       "      <th>6</th>\n",
       "      <td>2017</td>\n",
       "      <td>9.95</td>\n",
       "    </tr>\n",
       "    <tr>\n",
       "      <th>7</th>\n",
       "      <td>2018</td>\n",
       "      <td>10.37</td>\n",
       "    </tr>\n",
       "    <tr>\n",
       "      <th>8</th>\n",
       "      <td>2019</td>\n",
       "      <td>29.91</td>\n",
       "    </tr>\n",
       "    <tr>\n",
       "      <th>9</th>\n",
       "      <td>2020</td>\n",
       "      <td>16.19</td>\n",
       "    </tr>\n",
       "    <tr>\n",
       "      <th>10</th>\n",
       "      <td>2021</td>\n",
       "      <td>0.34</td>\n",
       "    </tr>\n",
       "  </tbody>\n",
       "</table>\n",
       "</div>"
      ],
      "text/plain": [
       "    Year  % of all messages\n",
       "0   2011               0.30\n",
       "1   2012               0.18\n",
       "2   2013               0.36\n",
       "3   2014               1.64\n",
       "4   2015              10.09\n",
       "5   2016              20.67\n",
       "6   2017               9.95\n",
       "7   2018              10.37\n",
       "8   2019              29.91\n",
       "9   2020              16.19\n",
       "10  2021               0.34"
      ]
     },
     "execution_count": 3,
     "metadata": {},
     "output_type": "execute_result"
    }
   ],
   "source": [
    "#Messages sent and received grouped by year, displayed as a percentage of total\n",
    "\n",
    "round((df.groupby('Year')['Message'].size() / len(df)) * 100,2).reset_index().rename(columns={'Message':'% of all messages'})"
   ]
  },
  {
   "cell_type": "markdown",
   "metadata": {},
   "source": [
    "### SQL examples"
   ]
  },
  {
   "cell_type": "code",
   "execution_count": 4,
   "metadata": {},
   "outputs": [
    {
     "name": "stdout",
     "output_type": "stream",
     "text": [
      "[(117,)]\n"
     ]
    }
   ],
   "source": [
    "#Finding total number of friends with whom I had a conversation with\n",
    "\n",
    "conn = sqlite3.connect(db_name)\n",
    "c = conn.cursor()\n",
    "\n",
    "print(c.execute(\"SELECT count(*) FROM Friends WHERE Name in (Select Conversation from Messages) \").fetchall())\n",
    "\n"
   ]
  },
  {
   "cell_type": "code",
   "execution_count": 5,
   "metadata": {},
   "outputs": [
    {
     "name": "stdout",
     "output_type": "stream",
     "text": [
      "[('2011-07-13', 18)]\n"
     ]
    }
   ],
   "source": [
    "#Date with higest number of friends added\n",
    "\n",
    "print(c.execute(\"SELECT Date_added, COUNT(*) FROM Friends GROUP BY Date_added ORDER BY COUNT(*) DESC LIMIT 1\").fetchall())\n",
    "\n",
    "c.close()\n",
    "conn.close()"
   ]
  }
 ],
 "metadata": {
  "kernelspec": {
   "display_name": "Python 3",
   "language": "python",
   "name": "python3"
  },
  "language_info": {
   "codemirror_mode": {
    "name": "ipython",
    "version": 3
   },
   "file_extension": ".py",
   "mimetype": "text/x-python",
   "name": "python",
   "nbconvert_exporter": "python",
   "pygments_lexer": "ipython3",
   "version": "3.8.8"
  }
 },
 "nbformat": 4,
 "nbformat_minor": 2
}
